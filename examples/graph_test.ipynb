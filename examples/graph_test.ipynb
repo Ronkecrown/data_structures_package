{
 "cells": [
  {
   "cell_type": "code",
   "execution_count": 4,
   "metadata": {},
   "outputs": [],
   "source": [
    "import sys\n",
    "sys.path.append('..')"
   ]
  },
  {
   "cell_type": "code",
   "execution_count": 3,
   "metadata": {},
   "outputs": [],
   "source": [
    "from data_structures.graph import Graph"
   ]
  },
  {
   "cell_type": "code",
   "execution_count": 6,
   "metadata": {},
   "outputs": [
    {
     "name": "stdout",
     "output_type": "stream",
     "text": [
      "Graph after adding vertices and edges:\n",
      "A : ['B', 'C']\n",
      "B : ['A', 'C']\n",
      "C : ['A', 'B']\n",
      "\n",
      "Graph after removing edge between A and C:\n",
      "A : ['B']\n",
      "B : ['A', 'C']\n",
      "C : ['B']\n",
      "\n",
      "Graph after removing vertex B:\n",
      "A : []\n",
      "C : []\n"
     ]
    }
   ],
   "source": [
    "# Create a new graph instance\n",
    "graph = Graph()\n",
    "\n",
    "# Add vertices\n",
    "graph.add_vertex(\"A\")\n",
    "graph.add_vertex(\"B\")\n",
    "graph.add_vertex(\"C\")\n",
    "\n",
    "# Add edges between vertices\n",
    "graph.add_edge(\"A\", \"B\")\n",
    "graph.add_edge(\"A\", \"C\")\n",
    "graph.add_edge(\"B\", \"C\")\n",
    "\n",
    "# Display current graph\n",
    "print(\"Graph after adding vertices and edges:\")\n",
    "graph.display()\n",
    "\n",
    "\n",
    "# Remove an edge\n",
    "graph.remove_edge(\"A\", \"C\")\n",
    "print(\"\\nGraph after removing edge between A and C:\")\n",
    "graph.display()\n",
    "\n",
    "\n",
    "# Remove a vertex\n",
    "graph.remove_vertex(\"B\")\n",
    "print(\"\\nGraph after removing vertex B:\")\n",
    "graph.display()\n",
    "\n"
   ]
  }
 ],
 "metadata": {
  "kernelspec": {
   "display_name": "Python 3",
   "language": "python",
   "name": "python3"
  },
  "language_info": {
   "codemirror_mode": {
    "name": "ipython",
    "version": 3
   },
   "file_extension": ".py",
   "mimetype": "text/x-python",
   "name": "python",
   "nbconvert_exporter": "python",
   "pygments_lexer": "ipython3",
   "version": "3.13.2"
  }
 },
 "nbformat": 4,
 "nbformat_minor": 2
}
