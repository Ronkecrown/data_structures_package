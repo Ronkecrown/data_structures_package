{
 "cells": [
  {
   "cell_type": "code",
   "execution_count": 2,
   "metadata": {},
   "outputs": [],
   "source": [
    "import sys\n",
    "sys.path.append('..')"
   ]
  },
  {
   "cell_type": "code",
   "execution_count": 3,
   "metadata": {},
   "outputs": [],
   "source": [
    "from data_structures.tree import BinarySearchTree"
   ]
  },
  {
   "cell_type": "code",
   "execution_count": null,
   "metadata": {},
   "outputs": [
    {
     "name": "stdout",
     "output_type": "stream",
     "text": [
      "Inorder Traversal: [10, 20, 35, 45, 55, 65, 75]\n",
      "Search 55: True\n",
      "Search 25: False\n"
     ]
    }
   ],
   "source": [
    "# Example usage of BinarySearchTree\n",
    "\n",
    "# Create a BST instance\n",
    "bst = BinarySearchTree()\n",
    "\n",
    "# Insert elements\n",
    "bst.insert(45)\n",
    "bst.insert(20)\n",
    "bst.insert(65)\n",
    "bst.insert(10)\n",
    "bst.insert(35)\n",
    "bst.insert(55)\n",
    "bst.insert(75)\n",
    "\n",
    "# Perform in-order traversal (should return sorted order)\n",
    "print(\"Inorder Traversal:\", bst.inorder_traversal())  \n",
    "\n",
    "\n",
    "# Search for elements\n",
    "print(\"Search 55:\", bst.search(55))\n",
    "print(\"Search 25:\", bst.search(25))  \n"
   ]
  }
 ],
 "metadata": {
  "kernelspec": {
   "display_name": "Python 3",
   "language": "python",
   "name": "python3"
  },
  "language_info": {
   "codemirror_mode": {
    "name": "ipython",
    "version": 3
   },
   "file_extension": ".py",
   "mimetype": "text/x-python",
   "name": "python",
   "nbconvert_exporter": "python",
   "pygments_lexer": "ipython3",
   "version": "3.13.2"
  }
 },
 "nbformat": 4,
 "nbformat_minor": 2
}
