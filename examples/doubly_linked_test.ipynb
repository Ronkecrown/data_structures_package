{
 "cells": [
  {
   "cell_type": "code",
   "execution_count": 5,
   "metadata": {},
   "outputs": [],
   "source": [
    "import sys\n",
    "sys.path.append('..')"
   ]
  },
  {
   "cell_type": "code",
   "execution_count": 6,
   "metadata": {},
   "outputs": [],
   "source": [
    "from data_structures.doubly_linked import DoublyLinkedList"
   ]
  },
  {
   "cell_type": "code",
   "execution_count": null,
   "metadata": {},
   "outputs": [
    {
     "name": "stdout",
     "output_type": "stream",
     "text": [
      "5 <--> 15 <--> 10 <--> 20 <--> None\n",
      "5 <--> 15 <--> 20 <--> None\n",
      "Search 20: 2\n",
      "Access index 1: 15\n",
      "5 <--> 25 <--> 20 <--> None\n"
     ]
    }
   ],
   "source": [
    "# Create a new Doubly Linked List\n",
    "dll = DoublyLinkedList()\n",
    "\n",
    "# Insert elements\n",
    "dll.insert_at_end(10)\n",
    "dll.insert_at_end(20)\n",
    "dll.insert_at_beginning(5)\n",
    "dll.insert_at(1, 15)\n",
    "\n",
    "# Display the list\n",
    "dll.display() \n",
    "\n",
    "# Delete an element\n",
    "dll.delete_item(10)\n",
    "dll.display()  \n",
    "\n",
    "# Search for an element\n",
    "print(\"Search 20:\", dll.search(20))  \n",
    "\n",
    "# Access element by index\n",
    "print(\"Access index 1:\", dll.access(1))  \n",
    "\n",
    "# Update an element\n",
    "dll.update(1, 25)\n",
    "dll.display()  \n"
   ]
  }
 ],
 "metadata": {
  "kernelspec": {
   "display_name": "Python 3",
   "language": "python",
   "name": "python3"
  },
  "language_info": {
   "codemirror_mode": {
    "name": "ipython",
    "version": 3
   },
   "file_extension": ".py",
   "mimetype": "text/x-python",
   "name": "python",
   "nbconvert_exporter": "python",
   "pygments_lexer": "ipython3",
   "version": "3.13.2"
  }
 },
 "nbformat": 4,
 "nbformat_minor": 2
}
