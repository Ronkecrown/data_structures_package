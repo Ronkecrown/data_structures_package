{
 "cells": [
  {
   "cell_type": "code",
   "execution_count": 3,
   "metadata": {},
   "outputs": [],
   "source": [
    "import sys\n",
    "sys.path.append('..')"
   ]
  },
  {
   "cell_type": "code",
   "execution_count": 7,
   "metadata": {},
   "outputs": [],
   "source": [
    "from data_structures.stack import Stack"
   ]
  },
  {
   "cell_type": "markdown",
   "metadata": {},
   "source": [
    "# Create a stack\n",
    "stack = Stack()\n",
    "# Push elements onto the stack\n",
    "stack.push(5)\n",
    "stack.push(10)\n",
    "stack.push(15)\n",
    "print(\"After pushing:\", stack)  # Output: [5, 10, 15]\n"
   ]
  },
  {
   "cell_type": "code",
   "execution_count": null,
   "metadata": {},
   "outputs": [
    {
     "name": "stdout",
     "output_type": "stream",
     "text": [
      "Top element: 20\n",
      "Popped element: 20\n",
      "Stack after pop: [10]\n",
      "Is stack empty? False\n"
     ]
    }
   ],
   "source": [
    "# Peek at the top element\n",
    "top = stack.peek()\n",
    "print(\"Top element:\", top)  \n",
    "# Pop the top element\n",
    "popped = stack.pop()\n",
    "print(\"Popped element:\", popped)     \n",
    "print(\"Stack after pop:\", stack)     \n",
    "# Check if stack is empty\n",
    "print(\"Is stack empty?\", stack.is_empty())  "
   ]
  }
 ],
 "metadata": {
  "kernelspec": {
   "display_name": "Python 3",
   "language": "python",
   "name": "python3"
  },
  "language_info": {
   "codemirror_mode": {
    "name": "ipython",
    "version": 3
   },
   "file_extension": ".py",
   "mimetype": "text/x-python",
   "name": "python",
   "nbconvert_exporter": "python",
   "pygments_lexer": "ipython3",
   "version": "3.13.2"
  }
 },
 "nbformat": 4,
 "nbformat_minor": 2
}
