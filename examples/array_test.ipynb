{
 "cells": [
  {
   "cell_type": "code",
   "execution_count": 1,
   "metadata": {},
   "outputs": [],
   "source": [
    "import sys\n",
    "sys.path.append('..')"
   ]
  },
  {
   "cell_type": "code",
   "execution_count": null,
   "metadata": {},
   "outputs": [
    {
     "name": "stdout",
     "output_type": "stream",
     "text": [
      "[5, 7, 10]\n",
      "[5, 7, 8]\n",
      "1\n"
     ]
    }
   ],
   "source": [
    "from data_structures.array import Array\n",
    "\n",
    "arr = Array()\n",
    "\n",
    "arr.insert(5)\n",
    "arr.insert(10)\n",
    "arr.insert_at(1, 7)\n",
    "arr.display()  \n",
    "arr.update(2, 8)\n",
    "arr.display()  \n",
    "print(arr.search(7))  \n"
   ]
  }
 ],
 "metadata": {
  "kernelspec": {
   "display_name": "Python 3",
   "language": "python",
   "name": "python3"
  },
  "language_info": {
   "codemirror_mode": {
    "name": "ipython",
    "version": 3
   },
   "file_extension": ".py",
   "mimetype": "text/x-python",
   "name": "python",
   "nbconvert_exporter": "python",
   "pygments_lexer": "ipython3",
   "version": "3.13.2"
  }
 },
 "nbformat": 4,
 "nbformat_minor": 2
}
