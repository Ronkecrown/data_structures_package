{
 "cells": [
  {
   "cell_type": "code",
   "execution_count": 3,
   "metadata": {},
   "outputs": [],
   "source": [
    "import sys\n",
    "sys.path.append('..')"
   ]
  },
  {
   "cell_type": "code",
   "execution_count": null,
   "metadata": {},
   "outputs": [],
   "source": [
    "from data_structures.queue import Queue"
   ]
  },
  {
   "cell_type": "code",
   "execution_count": 5,
   "metadata": {},
   "outputs": [
    {
     "name": "stdout",
     "output_type": "stream",
     "text": [
      "Queue after enqueue operations: [10, 20, 30]\n",
      "Peek front item: 10\n",
      "Dequeued item: 10\n",
      "Queue after dequeue operation: [20, 30]\n",
      "Is the queue empty? False\n",
      "Is the queue empty now? True\n"
     ]
    }
   ],
   "source": [
    "# Create a new queue\n",
    "q = Queue()\n",
    "\n",
    "# Add items to the queue\n",
    "q.enqueue(10)\n",
    "q.enqueue(20)\n",
    "q.enqueue(30)\n",
    "\n",
    "# Display the queue\n",
    "print(\"Queue after enqueue operations:\", q)\n",
    "\n",
    "\n",
    "# Peek at the front item\n",
    "print(\"Peek front item:\", q.peek())\n",
    "\n",
    "\n",
    "# Remove an item from the queue\n",
    "print(\"Dequeued item:\", q.dequeue())\n",
    "\n",
    "\n",
    "# Display the queue after dequeue\n",
    "print(\"Queue after dequeue operation:\", q)\n",
    "\n",
    "\n",
    "# Check if queue is empty\n",
    "print(\"Is the queue empty?\", q.is_empty())\n",
    "\n",
    "\n",
    "# Dequeue remaining items\n",
    "q.dequeue()\n",
    "q.dequeue()\n",
    "\n",
    "# Final check\n",
    "print(\"Is the queue empty now?\", q.is_empty())\n",
    "\n"
   ]
  }
 ],
 "metadata": {
  "kernelspec": {
   "display_name": "Python 3",
   "language": "python",
   "name": "python3"
  },
  "language_info": {
   "codemirror_mode": {
    "name": "ipython",
    "version": 3
   },
   "file_extension": ".py",
   "mimetype": "text/x-python",
   "name": "python",
   "nbconvert_exporter": "python",
   "pygments_lexer": "ipython3",
   "version": "3.13.2"
  }
 },
 "nbformat": 4,
 "nbformat_minor": 2
}
