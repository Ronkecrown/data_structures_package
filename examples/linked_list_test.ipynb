{
 "cells": [
  {
   "cell_type": "code",
   "execution_count": 7,
   "metadata": {},
   "outputs": [],
   "source": [
    "import sys\n",
    "sys.path.append('..')"
   ]
  },
  {
   "cell_type": "code",
   "execution_count": 8,
   "metadata": {},
   "outputs": [],
   "source": [
    "from data_structures.linked_list import LinkedList"
   ]
  },
  {
   "cell_type": "code",
   "execution_count": 13,
   "metadata": {},
   "outputs": [
    {
     "name": "stdout",
     "output_type": "stream",
     "text": [
      "20 -> 30 -> 25 -> 40 -> None\n",
      "20 -> 25 -> 40 -> None\n",
      "Search 25: True\n",
      "Length: 3\n",
      "Access index 2: 40\n",
      "20 -> 35 -> 40 -> None\n"
     ]
    }
   ],
   "source": [
    "# Create a new LinkedList\n",
    "ll = LinkedList()\n",
    "\n",
    "# Insert elements\n",
    "ll.insertAtBeginning(30)\n",
    "ll.insertAtBeginning(20)\n",
    "ll.insertAtEnd(40)\n",
    "ll.insertAfter(25, 1)  \n",
    "\n",
    "# Display the list\n",
    "ll.display()  \n",
    "\n",
    "# Delete an item\n",
    "ll.deleteItem(30)\n",
    "ll.display()  \n",
    "\n",
    "# Search for an item\n",
    "print(\"Search 25:\", ll.search(25))  \n",
    "\n",
    "# Get length of the list\n",
    "print(\"Length:\", ll.get_length())  \n",
    "\n",
    "# Access element by index\n",
    "print(\"Access index 2:\", ll.access(2)) \n",
    "\n",
    "# Update element at index\n",
    "ll.update(1, 35)\n",
    "ll.display()  \n"
   ]
  }
 ],
 "metadata": {
  "kernelspec": {
   "display_name": "Python 3",
   "language": "python",
   "name": "python3"
  },
  "language_info": {
   "codemirror_mode": {
    "name": "ipython",
    "version": 3
   },
   "file_extension": ".py",
   "mimetype": "text/x-python",
   "name": "python",
   "nbconvert_exporter": "python",
   "pygments_lexer": "ipython3",
   "version": "3.13.2"
  }
 },
 "nbformat": 4,
 "nbformat_minor": 2
}
